{
 "cells": [
  {
   "cell_type": "code",
   "execution_count": 5,
   "id": "a942c4e9",
   "metadata": {},
   "outputs": [
    {
     "name": "stdout",
     "output_type": "stream",
     "text": [
      "2.0\n"
     ]
    }
   ],
   "source": [
    "# square root function\n",
    "num = 4\n",
    "n = num ** 0.5\n",
    "print(n)"
   ]
  },
  {
   "cell_type": "code",
   "execution_count": 20,
   "id": "27b75358",
   "metadata": {},
   "outputs": [
    {
     "name": "stdout",
     "output_type": "stream",
     "text": [
      "J J J J J \n",
      "J J J J \n",
      "J J J \n",
      "J J \n",
      "J \n"
     ]
    }
   ],
   "source": [
    "for i in range(6, 1, -1):\n",
    "    \n",
    "    for j in range(i-1):\n",
    "         print(\"J\",end =' ')\n",
    "    print()"
   ]
  },
  {
   "cell_type": "code",
   "execution_count": 17,
   "id": "6c6c9d7d",
   "metadata": {
    "collapsed": true
   },
   "outputs": [
    {
     "name": "stdout",
     "output_type": "stream",
     "text": [
      "5\n",
      "6\n",
      "7\n",
      "14.696938456699069\n"
     ]
    },
    {
     "data": {
      "text/plain": [
       "'\\n1/2 b*h \\n\\n++++++++\\nto find sidde ab2=bd2+da2\\n# semeiperimetere(a+b+c)/2\\nherons formula\\nunderroot(**0.5) of (s(s-a)(s-b)(s-c))\\n\\n'"
      ]
     },
     "execution_count": 17,
     "metadata": {},
     "output_type": "execute_result"
    }
   ],
   "source": [
    "#area of tringle\n",
    "a, b, c = eval(input()),  eval(input()), eval(input())\n",
    "# calculate the semi-perimeter\n",
    "s = (a + b + c) / 2\n",
    "# calculate the area\n",
    "area = (s*(s-a)*(s-b)*(s-c)) ** 0.5\n",
    "print(area)\n",
    "#tringle area\n",
    "\"\"\"\n",
    "1/2 b*h \n",
    "++++++++\n",
    "to find sidde ab2=bd2+da2\n",
    "# semeiperimetere(a+b+c)/2\n",
    "herons formula\n",
    "underroot(**0.5) of (s(s-a)(s-b)(s-c))\n",
    "\n",
    "\"\"\""
   ]
  },
  {
   "cell_type": "code",
   "execution_count": 21,
   "id": "8a0de522",
   "metadata": {
    "collapsed": true
   },
   "outputs": [
    {
     "name": "stdout",
     "output_type": "stream",
     "text": [
      "Before : 2 4\n",
      "_Aftre : 4 2\n"
     ]
    }
   ],
   "source": [
    "\"\"\"swap two nun\"\"\"\n",
    "a, b=2, 4,\n",
    "print(\"Before :\", a, b)\n",
    "c_temp = a\n",
    "a = b\n",
    "b = c_temp\n",
    "print(\"_Aftre :\", a, b)"
   ]
  },
  {
   "cell_type": "code",
   "execution_count": 25,
   "id": "dd6a2a92",
   "metadata": {},
   "outputs": [
    {
     "name": "stdout",
     "output_type": "stream",
     "text": [
      "7\n"
     ]
    }
   ],
   "source": [
    "import random\n",
    "print(random.randint(0,9))\n",
    "#random int print"
   ]
  },
  {
   "cell_type": "code",
   "execution_count": 36,
   "id": "44065147",
   "metadata": {},
   "outputs": [
    {
     "name": "stdout",
     "output_type": "stream",
     "text": [
      "Enter Kilometer to convert to mile : 3.50\n",
      "3.5 in mile is : 2.18\n"
     ]
    }
   ],
   "source": [
    "#km to mile\n",
    "kilometer = eval(input(\"Enter Kilometer to convert to mile : \"))\n",
    "to_mile = kilometer / 1.609\n",
    "print(kilometer, \"in mile is :\", round(to_mile, 2))\n",
    "#1 mile = 1.609 km"
   ]
  },
  {
   "cell_type": "code",
   "execution_count": 41,
   "id": "ad72feeb",
   "metadata": {},
   "outputs": [
    {
     "name": "stdout",
     "output_type": "stream",
     "text": [
      "124\n",
      "Given number 124 is even.\n"
     ]
    }
   ],
   "source": [
    "#odd _ even\n",
    "number = int(input())\n",
    "if number % 2 == 0 :\n",
    "    print(f\"Given number {number} is even.\")\n",
    "else:\n",
    "    print(f\"Given number {number} is odd.\")"
   ]
  },
  {
   "cell_type": "code",
   "execution_count": 56,
   "id": "f0211817",
   "metadata": {},
   "outputs": [
    {
     "name": "stdout",
     "output_type": "stream",
     "text": [
      "1600 Year is LEAP year\n"
     ]
    }
   ],
   "source": [
    "year = 1600\n",
    "#leap year\n",
    "\n",
    "if year % 400 == 0 and year % 100 == 0:\n",
    "    print(f\"{year} Year is LEAP year\")\n",
    "elif year % 4 == 0 and year % 100 !=0:\n",
    "    print(f\"{year} Year is LEAP year\")\n",
    "else:\n",
    "    print(f\"The giver year {year} is not leap year.\")"
   ]
  },
  {
   "cell_type": "code",
   "execution_count": 62,
   "id": "c8c80d73",
   "metadata": {},
   "outputs": [
    {
     "name": "stdout",
     "output_type": "stream",
     "text": [
      "37.5\n"
     ]
    }
   ],
   "source": [
    "#Celsius to - to Farenheight \n",
    "\"\"\"\n",
    "c(9/5)+32\n",
    "c_to_fahrenheit = celsius * 1.8 + 32\n",
    "f_to_celsius = (fahrenheit - 32) / 1.8\n",
    "\"\"\"\n",
    "c = 37.5\n",
    "to_f = c*(9/5)+32\n",
    "print(c)\n"
   ]
  },
  {
   "cell_type": "code",
   "execution_count": 64,
   "id": "8daa7825",
   "metadata": {},
   "outputs": [
    {
     "name": "stdout",
     "output_type": "stream",
     "text": [
      "N\n"
     ]
    }
   ],
   "source": [
    "#positive negative number zero\n",
    "num = -1\n",
    "if num > 0:\n",
    "    print(\"P\")\n",
    "elif num < 0:\n",
    "    print(\"N\")\n",
    "else:\n",
    "    print(\"Z\")"
   ]
  },
  {
   "cell_type": "code",
   "execution_count": 81,
   "id": "2166fa67",
   "metadata": {},
   "outputs": [
    {
     "name": "stdout",
     "output_type": "stream",
     "text": [
      "14\n"
     ]
    }
   ],
   "source": [
    "#gtreater among three num\n",
    "a, b, c = 10,14,12\n",
    "if a >= b and a >= c:\n",
    "    print(a)\n",
    "elif b >= a and b >= c :\n",
    "    print(b)\n",
    "else:\n",
    "    print(c)"
   ]
  },
  {
   "cell_type": "code",
   "execution_count": 9,
   "id": "b6d80ce6",
   "metadata": {},
   "outputs": [],
   "source": [
    "store = []"
   ]
  },
  {
   "cell_type": "code",
   "execution_count": 12,
   "id": "24724532",
   "metadata": {},
   "outputs": [
    {
     "name": "stdout",
     "output_type": "stream",
     "text": [
      "[1, 4, 9, 16, 25, 36, 49, 64, 81, 1, 4, 9, 16, 25, 36, 49, 64, 81, 100, 1, 4, 9, 16, 25, 36, 49, 64, 81, 100]\n"
     ]
    }
   ],
   "source": [
    "for i in range(1,11):\n",
    "    store.append(i ** 2)\n",
    "print(store)"
   ]
  },
  {
   "cell_type": "code",
   "execution_count": 1,
   "id": "f01dca9d",
   "metadata": {},
   "outputs": [
    {
     "name": "stdout",
     "output_type": "stream",
     "text": [
      "0 1\n"
     ]
    }
   ],
   "source": [
    "\n",
    "print(a, b)"
   ]
  },
  {
   "cell_type": "code",
   "execution_count": 22,
   "id": "0e2700ad",
   "metadata": {
    "scrolled": true
   },
   "outputs": [
    {
     "name": "stdout",
     "output_type": "stream",
     "text": [
      "0,1,1,2,3,5,8,13,"
     ]
    }
   ],
   "source": [
    "a, b = 0, 1\n",
    "while a<20:\n",
    "    print (f'{a}', end=\",\")\n",
    "    a, b =b, a+b\n",
    " "
   ]
  },
  {
   "cell_type": "code",
   "execution_count": 34,
   "id": "e36a4b67",
   "metadata": {},
   "outputs": [
    {
     "name": "stdout",
     "output_type": "stream",
     "text": [
      "{'cat': 3, 'window': 6, 'defenestrate': 12}\n"
     ]
    }
   ],
   "source": [
    "words = ['cat', 'window', 'defenestrate']\n",
    "s = [len(x) for x in (words)]\n",
    "strr = zip(words, s)\n",
    "print(dict(strr))"
   ]
  },
  {
   "cell_type": "code",
   "execution_count": 1,
   "id": "8b0293a0",
   "metadata": {},
   "outputs": [],
   "source": [
    "users = {'Hans': 'active', 'Éléonore': 'inactive', '景太郎': 'active'}\n",
    "\n",
    "# Strategy:  Iterate over a copy\n",
    "for user, status in users.copy().items():\n",
    "    if status == 'inactive':\n",
    "        del users[user]\n",
    "\n",
    "# Strategy:  Create a new collection\n",
    "active_users = {}\n",
    "for user, status in users.items():\n",
    "    if status == 'active':\n",
    "        active_users[user] = status"
   ]
  },
  {
   "cell_type": "code",
   "execution_count": 20,
   "id": "f37c51b4",
   "metadata": {},
   "outputs": [
    {
     "name": "stdout",
     "output_type": "stream",
     "text": [
      "1\n",
      "3\n",
      "5\n"
     ]
    }
   ],
   "source": [
    "for i in range (1,6,2):\n",
    "    print(i)"
   ]
  },
  {
   "cell_type": "code",
   "execution_count": 22,
   "id": "ce31a803",
   "metadata": {},
   "outputs": [],
   "source": [
    "a = ['Mary', 'had', 'a', 'little', 'lamb']"
   ]
  },
  {
   "cell_type": "code",
   "execution_count": 27,
   "id": "0907bfdd",
   "metadata": {},
   "outputs": [
    {
     "name": "stdout",
     "output_type": "stream",
     "text": [
      "1 had\n",
      "2 a\n",
      "3 little\n",
      "4 lamb\n"
     ]
    }
   ],
   "source": [
    "for i in range(1,len(a)):\n",
    "    print(i, a[i])"
   ]
  },
  {
   "cell_type": "code",
   "execution_count": 33,
   "id": "84b132ab",
   "metadata": {},
   "outputs": [
    {
     "name": "stdout",
     "output_type": "stream",
     "text": [
      "{'Mary': 4, 'had': 3, 'a': 1, 'little': 6, 'lamb': 4}"
     ]
    }
   ],
   "source": [
    "lst = [len(i) for i in a ]\n",
    "print(dict(zip(a,lst)), end=''for "
   ]
  },
  {
   "cell_type": "code",
   "execution_count": 34,
   "id": "1b9db156",
   "metadata": {
    "scrolled": true
   },
   "outputs": [
    {
     "ename": "AttributeError",
     "evalue": "'list' object has no attribute 'items'",
     "output_type": "error",
     "traceback": [
      "\u001b[1;31m---------------------------------------------------------------------------\u001b[0m",
      "\u001b[1;31mAttributeError\u001b[0m                            Traceback (most recent call last)",
      "Cell \u001b[1;32mIn[34], line 1\u001b[0m\n\u001b[1;32m----> 1\u001b[0m \u001b[38;5;28;01mfor\u001b[39;00m x, y \u001b[38;5;129;01min\u001b[39;00m lst\u001b[38;5;241m.\u001b[39mitems():\n\u001b[0;32m      2\u001b[0m     \u001b[38;5;28mprint\u001b[39m(x, y)\n",
      "\u001b[1;31mAttributeError\u001b[0m: 'list' object has no attribute 'items'"
     ]
    }
   ],
   "source": [
    "for x, y in lst.items():\n",
    "    print(x, y)"
   ]
  },
  {
   "cell_type": "code",
   "execution_count": null,
   "id": "857b8f81",
   "metadata": {},
   "outputs": [],
   "source": [
    "while True:\n",
    "    pass"
   ]
  },
  {
   "cell_type": "code",
   "execution_count": 3,
   "id": "0b3754a1",
   "metadata": {},
   "outputs": [
    {
     "name": "stdout",
     "output_type": "stream",
     "text": [
      "1\n",
      "1\n",
      "2\n",
      "3\n",
      "5\n",
      "8\n",
      "13\n",
      "21\n"
     ]
    }
   ],
   "source": [
    "#fibonacci\n",
    "x, y = 0, 1\n",
    "while x < 20:\n",
    "    x, y= y, x+y\n",
    "    print(x)"
   ]
  },
  {
   "cell_type": "code",
   "execution_count": 8,
   "id": "34966ddd",
   "metadata": {},
   "outputs": [
    {
     "data": {
      "text/plain": [
       "24"
      ]
     },
     "execution_count": 8,
     "metadata": {},
     "output_type": "execute_result"
    }
   ],
   "source": [
    "def fact(x, y):\n",
    "    return x*y\n",
    "def facts(x,y,z):\n",
    "    return x*fact(y, z)\n",
    "facts(2,3,4)"
   ]
  },
  {
   "cell_type": "code",
   "execution_count": 15,
   "id": "58b5eaf4",
   "metadata": {},
   "outputs": [
    {
     "data": {
      "text/plain": [
       "23"
      ]
     },
     "execution_count": 15,
     "metadata": {},
     "output_type": "execute_result"
    }
   ],
   "source": [
    "def add(a,b):\n",
    "    return a+b\n",
    "def addr(x,y):\n",
    "    return x+ add(x,y)\n",
    "addr(10,3)"
   ]
  },
  {
   "cell_type": "code",
   "execution_count": 16,
   "id": "f69a4a80",
   "metadata": {},
   "outputs": [
    {
     "data": {
      "text/plain": [
       "[1, 1, 2, 3, 5, 8, 13, 21, 34, 55, 89, 144, 233]"
      ]
     },
     "execution_count": 16,
     "metadata": {},
     "output_type": "execute_result"
    }
   ],
   "source": [
    "def ff(n):\n",
    "    result = []\n",
    "    a, b = 0, 1\n",
    "    while a <200:\n",
    "        \n",
    "        a, b= b, a+b\n",
    "        result.append(a)\n",
    "    return result\n",
    "ff(10)\n"
   ]
  },
  {
   "cell_type": "code",
   "execution_count": 12,
   "id": "625aa782",
   "metadata": {},
   "outputs": [
    {
     "data": {
      "text/plain": [
       "120"
      ]
     },
     "execution_count": 12,
     "metadata": {},
     "output_type": "execute_result"
    }
   ],
   "source": [
    "def facto(n):\n",
    "    if n == 0:\n",
    "        return 1\n",
    "    else:\n",
    "        f = 1\n",
    "        for i in range(1, n+1):\n",
    "            f *= i\n",
    "        return f\n",
    "facto(5)"
   ]
  },
  {
   "cell_type": "code",
   "execution_count": 12,
   "id": "7f8d23bb",
   "metadata": {},
   "outputs": [
    {
     "name": "stdout",
     "output_type": "stream",
     "text": [
      "[3]\n"
     ]
    }
   ],
   "source": [
    "def f(a, L=None):\n",
    "    if L is None:\n",
    "        L = []\n",
    "    L.append(a)\n",
    "    return L\n",
    "print(f(3))"
   ]
  },
  {
   "cell_type": "code",
   "execution_count": 21,
   "id": "573612ee",
   "metadata": {
    "scrolled": true
   },
   "outputs": [
    {
     "name": "stdout",
     "output_type": "stream",
     "text": [
      "9\n"
     ]
    }
   ],
   "source": [
    "def lam(n):\n",
    "    return lambda X: X + n\n",
    "\n",
    "f = lam(6)\n",
    "print(f(3))"
   ]
  },
  {
   "cell_type": "code",
   "execution_count": 41,
   "id": "cc4128d7",
   "metadata": {},
   "outputs": [],
   "source": [
    "fruits = ['orange', 'apple', 'pear', 'banana', 'kiwi', 'apple', 'banana']"
   ]
  },
  {
   "cell_type": "code",
   "execution_count": 45,
   "id": "c9e2e79f",
   "metadata": {},
   "outputs": [
    {
     "data": {
      "text/plain": [
       "['orange', 'pear', 'banana', 'kiwi', 'banana']"
      ]
     },
     "execution_count": 45,
     "metadata": {},
     "output_type": "execute_result"
    }
   ],
   "source": [
    "#fruits.sort()\n",
    "#fruits.reverse()\n",
    "#fruits.pop(1)\n",
    "#fruits.append(\"naval\")\n",
    "#fruits.count(\"apple\")\n",
    "fruits.remove(\"apple\")\n",
    "fruits"
   ]
  },
  {
   "cell_type": "code",
   "execution_count": 54,
   "id": "4126dd36",
   "metadata": {},
   "outputs": [
    {
     "name": "stdout",
     "output_type": "stream",
     "text": [
      "{'orange', 'banana', 'pear', 'kiwi'}\n"
     ]
    }
   ],
   "source": [
    "a = {x for x in fruits if x in fruits}\n",
    "print(a)"
   ]
  },
  {
   "cell_type": "code",
   "execution_count": 57,
   "id": "697d1144",
   "metadata": {},
   "outputs": [
    {
     "data": {
      "text/plain": [
       "{0: 1, 1: 2, 2: 3, 3: 4, 4: 5, 5: 6, 6: 7, 7: 8, 8: 9, 9: 10}"
      ]
     },
     "execution_count": 57,
     "metadata": {},
     "output_type": "execute_result"
    }
   ],
   "source": [
    "{x: x1 for x in range(10)}"
   ]
  },
  {
   "cell_type": "code",
   "execution_count": 71,
   "id": "ce89cfea",
   "metadata": {},
   "outputs": [
    {
     "name": "stdout",
     "output_type": "stream",
     "text": [
      "[1] [ORANGE]\n",
      "[2] [PEAR]\n",
      "[3] [BANANA]\n",
      "[4] [KIWI]\n",
      "[5] [BANANA]\n"
     ]
    }
   ],
   "source": [
    "for key, value in enumerate(fruits):\n",
    "    print(f\"[{key+1}] [{value.upper()}]\")"
   ]
  },
  {
   "cell_type": "code",
   "execution_count": 65,
   "id": "1f7bea22",
   "metadata": {},
   "outputs": [
    {
     "ename": "SyntaxError",
     "evalue": "invalid syntax. Perhaps you forgot a comma? (2321396482.py, line 1)",
     "output_type": "error",
     "traceback": [
      "\u001b[1;36m  Cell \u001b[1;32mIn[65], line 1\u001b[1;36m\u001b[0m\n\u001b[1;33m    a= [lambda key, value: key value in enumerate(fruits)]\u001b[0m\n\u001b[1;37m                           ^\u001b[0m\n\u001b[1;31mSyntaxError\u001b[0m\u001b[1;31m:\u001b[0m invalid syntax. Perhaps you forgot a comma?\n"
     ]
    }
   ],
   "source": [
    "a= [lambda key, value: key value in enumerate(fruits)]"
   ]
  },
  {
   "cell_type": "code",
   "execution_count": 82,
   "id": "1f2e5f57",
   "metadata": {},
   "outputs": [
    {
     "name": "stdout",
     "output_type": "stream",
     "text": [
      "0ds:orange\n",
      "fg:apple\n",
      "grf:pear\n",
      "ds:banana\n",
      "gb:kiwi\n",
      "dfs:apple\n",
      "ds:banana\n"
     ]
    }
   ],
   "source": [
    "fruits = ['orange', 'apple', 'pear', 'banana', 'kiwi', 'apple', 'banana']\n",
    "a= ['0ds','fg','grf','ds','gb','dfs','ds','gf']\n",
    "for a, b in zip(fruits,a):\n",
    "    print(f\"{b}:{a}\")"
   ]
  },
  {
   "cell_type": "code",
   "execution_count": 91,
   "id": "5f7a31a9",
   "metadata": {},
   "outputs": [
    {
     "ename": "ModuleNotFoundError",
     "evalue": "No module named 'fibo'",
     "output_type": "error",
     "traceback": [
      "\u001b[1;31m---------------------------------------------------------------------------\u001b[0m",
      "\u001b[1;31mModuleNotFoundError\u001b[0m                       Traceback (most recent call last)",
      "Cell \u001b[1;32mIn[91], line 1\u001b[0m\n\u001b[1;32m----> 1\u001b[0m \u001b[38;5;28;01mimport\u001b[39;00m \u001b[38;5;21;01mfibo\u001b[39;00m\n\u001b[0;32m      2\u001b[0m fibo\u001b[38;5;241m.\u001b[39mfib(\u001b[38;5;241m20\u001b[39m)\n",
      "\u001b[1;31mModuleNotFoundError\u001b[0m: No module named 'fibo'"
     ]
    }
   ],
   "source": [
    "import fibo\n",
    "fibo.fib(20)"
   ]
  },
  {
   "cell_type": "code",
   "execution_count": 1,
   "id": "1e9c6140",
   "metadata": {
    "scrolled": false
   },
   "outputs": [
    {
     "name": "stdout",
     "output_type": "stream",
     "text": [
      "1:                   2\n",
      "2:                   3\n",
      "3:                   4\n",
      "4:                   5\n",
      "5:                   6\n",
      "6:                   7\n",
      "7:                   8\n",
      "8:                   9\n",
      "9:                  10\n",
      "10:                  11\n",
      "11:                  12\n",
      "12:                  13\n",
      "13:                  14\n",
      "14:                  15\n",
      "15:                  16\n",
      "16:                  17\n",
      "17:                  18\n",
      "18:                  19\n",
      "19:                  20\n",
      "20:                  21\n",
      "21:                  22\n",
      "22:                  23\n",
      "23:                  24\n",
      "24:                  25\n",
      "25:                  26\n",
      "26:                  27\n",
      "27:                  28\n",
      "28:                  29\n",
      "29:                  30\n",
      "30:                  31\n",
      "31:                  32\n",
      "32:                  33\n",
      "33:                  34\n",
      "34:                  35\n",
      "35:                  36\n",
      "36:                  37\n",
      "37:                  38\n",
      "38:                  39\n",
      "39:                  40\n",
      "40:                  41\n",
      "41:                  42\n",
      "42:                  43\n",
      "43:                  44\n",
      "44:                  45\n",
      "45:                  46\n",
      "46:                  47\n",
      "47:                  48\n",
      "48:                  49\n",
      "49:                  50\n",
      "50:                  51\n",
      "51:                  52\n",
      "52:                  53\n",
      "53:                  54\n",
      "54:                  55\n",
      "55:                  56\n",
      "56:                  57\n",
      "57:                  58\n",
      "58:                  59\n",
      "59:                  60\n",
      "60:                  61\n",
      "61:                  62\n",
      "62:                  63\n",
      "63:                  64\n",
      "64:                  65\n",
      "65:                  66\n",
      "66:                  67\n",
      "67:                  68\n",
      "68:                  69\n",
      "69:                  70\n",
      "70:                  71\n",
      "71:                  72\n",
      "72:                  73\n",
      "73:                  74\n",
      "74:                  75\n",
      "75:                  76\n",
      "76:                  77\n",
      "77:                  78\n",
      "78:                  79\n",
      "79:                  80\n",
      "80:                  81\n",
      "81:                  82\n",
      "82:                  83\n",
      "83:                  84\n",
      "84:                  85\n",
      "85:                  86\n",
      "86:                  87\n",
      "87:                  88\n",
      "88:                  89\n",
      "89:                  90\n",
      "90:                  91\n",
      "91:                  92\n",
      "92:                  93\n",
      "93:                  94\n",
      "94:                  95\n",
      "95:                  96\n",
      "96:                  97\n",
      "97:                  98\n",
      "98:                  99\n",
      "99:                 100\n",
      "100:                 101\n",
      "101:                 102\n",
      "102:                 103\n",
      "103:                 104\n",
      "104:                 105\n",
      "105:                 106\n",
      "106:                 107\n",
      "107:                 108\n",
      "108:                 109\n",
      "109:                 110\n"
     ]
    }
   ],
   "source": [
    "for x in range(1,110):\n",
    "    print (f'{x}:{str(x+1).rjust(20)}')"
   ]
  },
  {
   "cell_type": "code",
   "execution_count": 2,
   "id": "0f799c78",
   "metadata": {},
   "outputs": [],
   "source": [
    "f = open('workfile', 'w', encoding=\"utf-8\")"
   ]
  },
  {
   "cell_type": "code",
   "execution_count": null,
   "id": "ecb9c490",
   "metadata": {},
   "outputs": [],
   "source": []
  },
  {
   "cell_type": "code",
   "execution_count": 89,
   "id": "95e96d0c",
   "metadata": {},
   "outputs": [
    {
     "name": "stdout",
     "output_type": "stream",
     "text": [
      "banana orange pear apple orange apple "
     ]
    }
   ],
   "source": [
    "basket = ['apple', 'orange', 'apple', 'pear', 'orange', 'banana']\n",
    "for f in reversed(basket):\n",
    "    print(f, end=\" \")"
   ]
  },
  {
   "cell_type": "code",
   "execution_count": 1,
   "id": "95b232e1",
   "metadata": {},
   "outputs": [
    {
     "name": "stdout",
     "output_type": "stream",
     "text": [
      "Enter Your : z\n",
      "Try Again invalid literal for int() with base 10: 'z'\n",
      "Enter Your : wqq\n",
      "Try Again invalid literal for int() with base 10: 'wqq'\n",
      "Enter Your : 1\n",
      "1\n"
     ]
    }
   ],
   "source": [
    "while True:\n",
    "    try:\n",
    "        x = int(input(\"Enter Your : \"))\n",
    "        print(x)\n",
    "        break\n",
    "    except Exception as v:\n",
    "        print(\"Try Again\",v)"
   ]
  },
  {
   "cell_type": "code",
   "execution_count": 7,
   "id": "3605bea6",
   "metadata": {},
   "outputs": [
    {
     "name": "stdout",
     "output_type": "stream",
     "text": [
      "hello world\n"
     ]
    }
   ],
   "source": [
    "class MyClass:\n",
    "    \"\"\"A simple example class\"\"\"\n",
    "    i = 12345\n",
    "\n",
    "    def f(self):\n",
    "        return 'hello world'\n",
    "x = MyClass()\n",
    "print(x.f())"
   ]
  },
  {
   "cell_type": "code",
   "execution_count": 11,
   "id": "685a6894",
   "metadata": {},
   "outputs": [
    {
     "name": "stdout",
     "output_type": "stream",
     "text": [
      "['C:\\\\anaconda3\\\\Lib\\\\site-packages\\\\ipykernel_launcher.py', '-f', 'C:\\\\Users\\\\shubh\\\\AppData\\\\Roaming\\\\jupyter\\\\runtime\\\\kernel-fcb7d7a7-9cf7-465a-9572-73d383af36ce.json']\n"
     ]
    }
   ],
   "source": [
    "import sys\n",
    "print(sys.argv)"
   ]
  },
  {
   "cell_type": "code",
   "execution_count": 19,
   "id": "48b36118",
   "metadata": {},
   "outputs": [
    {
     "name": "stdout",
     "output_type": "stream",
     "text": [
      "rrttgg.....banana....rrr\n"
     ]
    }
   ],
   "source": [
    "txt = \",,,,,rrttgg.....banana....rrr\"\n",
    "\n",
    "x = txt.strip(\",tg.ban\")\n",
    "\n",
    "print(x)"
   ]
  },
  {
   "cell_type": "code",
   "execution_count": 23,
   "id": "0efbb966",
   "metadata": {},
   "outputs": [
    {
     "name": "stdout",
     "output_type": "stream",
     "text": [
      "My Movie Collection: ['Movie 1', 'Movie 2', 'Movie 3', 'Movie 4', 'Movie 5']\n",
      "My Movie Collection: ['Movie 1', 'Movie 2', 'Movie 3', 'Movie 4']\n"
     ]
    },
    {
     "data": {
      "text/plain": [
       "4"
      ]
     },
     "execution_count": 23,
     "metadata": {},
     "output_type": "execute_result"
    }
   ],
   "source": [
    "# Start with an empty list\n",
    "movie_collection = []\n",
    "\n",
    "# Add some movies to the collection using the append() method\n",
    "movie_collection.append(\"Movie 1\") # Use your favourite movie names\n",
    "movie_collection.append(\"Movie 2\")\n",
    "movie_collection.append(\"Movie 3\")\n",
    "movie_collection.append(\"Movie 4\")\n",
    "movie_collection.append(\"Movie 5\")\n",
    "\n",
    "# Print the current collection of movies\n",
    "print(\"My Movie Collection:\", movie_collection)\n",
    "movie_collection.pop(4)\n",
    "print(\"My Movie Collection:\", movie_collection)\n",
    "num_movies = len(movie_collection)\n",
    "num_movies\n",
    "\n"
   ]
  },
  {
   "cell_type": "code",
   "execution_count": 43,
   "id": "1b83a6eb",
   "metadata": {},
   "outputs": [
    {
     "ename": "NameError",
     "evalue": "name 'common_fruits' is not defined",
     "output_type": "error",
     "traceback": [
      "\u001b[1;31m---------------------------------------------------------------------------\u001b[0m",
      "\u001b[1;31mNameError\u001b[0m                                 Traceback (most recent call last)",
      "Cell \u001b[1;32mIn[43], line 6\u001b[0m\n\u001b[0;32m      3\u001b[0m basket2 \u001b[38;5;241m=\u001b[39m {\u001b[38;5;124m'\u001b[39m\u001b[38;5;124mbanana\u001b[39m\u001b[38;5;124m'\u001b[39m, \u001b[38;5;124m'\u001b[39m\u001b[38;5;124mmango\u001b[39m\u001b[38;5;124m'\u001b[39m, \u001b[38;5;124m'\u001b[39m\u001b[38;5;124mpineapple\u001b[39m\u001b[38;5;124m'\u001b[39m, \u001b[38;5;124m'\u001b[39m\u001b[38;5;124morange\u001b[39m\u001b[38;5;124m'\u001b[39m}\n\u001b[0;32m      5\u001b[0m both_baskets \u001b[38;5;241m=\u001b[39m basket1 \u001b[38;5;241m-\u001b[39m basket2, basket2 \u001b[38;5;241m-\u001b[39m basket1  \u001b[38;5;66;03m# Replace x with appropriate method\u001b[39;00m\n\u001b[1;32m----> 6\u001b[0m \u001b[38;5;28mprint\u001b[39m(\u001b[38;5;124m\"\u001b[39m\u001b[38;5;124mCommon fruits in both baskets:\u001b[39m\u001b[38;5;124m\"\u001b[39m, common_fruits)\n",
      "\u001b[1;31mNameError\u001b[0m: name 'common_fruits' is not defined"
     ]
    }
   ],
   "source": [
    "# Define sets for fruits in each basket\n",
    "basket1 = {'apple', 'banana', 'grape', 'orange'}\n",
    "basket2 = {'banana', 'mango', 'pineapple', 'orange'}\n",
    "\n",
    "both_baskets = basket1 - basket2, basket2 - basket1  # Replace x with appropriate method\n",
    "print(\"Common fruits in both baskets:\", common_fruits)\n"
   ]
  },
  {
   "cell_type": "code",
   "execution_count": 2,
   "id": "6e0e393e",
   "metadata": {},
   "outputs": [],
   "source": [
    "for x in range(1000,1234,-1):\n",
    "    print(x%10)\n",
    "    print(x//100)"
   ]
  },
  {
   "cell_type": "code",
   "execution_count": 7,
   "id": "79cc8d87",
   "metadata": {},
   "outputs": [
    {
     "name": "stdout",
     "output_type": "stream",
     "text": [
      "610\n",
      "Hello! Welcome.\n"
     ]
    }
   ],
   "source": [
    "expr = 10 + 20 * 30\n",
    "\n",
    "print(expr)\n",
    "# Precedence of 'or' & 'and'\n",
    "name = \"Alex\"\n",
    "age = 0\n",
    "\n",
    "if name == \"Alex\" or name == \"John\" and age >= 2:\n",
    "    print(\"Hello! Welcome.\")\n",
    "else:\n",
    "    print(\"Good Bye!!\")"
   ]
  },
  {
   "cell_type": "code",
   "execution_count": 21,
   "id": "4c189f11",
   "metadata": {},
   "outputs": [
    {
     "name": "stdout",
     "output_type": "stream",
     "text": [
      "2220\n"
     ]
    }
   ],
   "source": [
    "a, b = 201, 20\n",
    "print((b, a) [a < b])"
   ]
  },
  {
   "cell_type": "code",
   "execution_count": 34,
   "id": "1c966e2e",
   "metadata": {},
   "outputs": [
    {
     "name": "stdout",
     "output_type": "stream",
     "text": [
      "20\n"
     ]
    }
   ],
   "source": [
    "a, b = 201, 20\n",
    "re= (lambda: b, lambda: a)[a < b]()\n",
    "\n",
    "print(re)"
   ]
  },
  {
   "cell_type": "code",
   "execution_count": 5,
   "id": "b0256a3a",
   "metadata": {},
   "outputs": [
    {
     "name": "stdout",
     "output_type": "stream",
     "text": [
      "1\n",
      "2\n",
      "3\n",
      "4\n",
      "5\n"
     ]
    },
    {
     "ename": "StopIteration",
     "evalue": "",
     "output_type": "error",
     "traceback": [
      "\u001b[1;31m---------------------------------------------------------------------------\u001b[0m",
      "\u001b[1;31mStopIteration\u001b[0m                             Traceback (most recent call last)",
      "Cell \u001b[1;32mIn[5], line 6\u001b[0m\n\u001b[0;32m      3\u001b[0m iter_obj \u001b[38;5;241m=\u001b[39m \u001b[38;5;28miter\u001b[39m(fruits)\n\u001b[0;32m      5\u001b[0m \u001b[38;5;28;01mwhile\u001b[39;00m \u001b[38;5;28;01mTrue\u001b[39;00m:\n\u001b[1;32m----> 6\u001b[0m     fruit \u001b[38;5;241m=\u001b[39m \u001b[38;5;28mnext\u001b[39m(iter_obj)\n\u001b[0;32m      7\u001b[0m     \u001b[38;5;28mprint\u001b[39m(fruit)\n",
      "\u001b[1;31mStopIteration\u001b[0m: "
     ]
    }
   ],
   "source": [
    "fruits = list(range(1, 5+1))\n",
    "\n",
    "iter_obj = iter(fruits)\n",
    "\n",
    "while True:\n",
    "    fruit = next(iter_obj)\n",
    "    print(fruit)"
   ]
  },
  {
   "cell_type": "code",
   "execution_count": 13,
   "id": "f0bd7f37",
   "metadata": {},
   "outputs": [
    {
     "name": "stdout",
     "output_type": "stream",
     "text": [
      "0\n",
      "1\n",
      "2\n",
      "No Break\n"
     ]
    }
   ],
   "source": [
    "count = 0\n",
    "while (count < 3):    \n",
    "\n",
    "    print(count)\n",
    "    count = count+1\n",
    "\n",
    "else:\n",
    "    print(\"No Break\")\n",
    "    "
   ]
  },
  {
   "cell_type": "code",
   "execution_count": 17,
   "id": "718c8c18",
   "metadata": {},
   "outputs": [
    {
     "name": "stdout",
     "output_type": "stream",
     "text": [
      "Last Letter : 4\n"
     ]
    }
   ],
   "source": [
    "for letter in range(1,5):\n",
    "  \n",
    "  pass\n",
    "print (f'Last Letter : {letter}')"
   ]
  },
  {
   "cell_type": "code",
   "execution_count": 23,
   "id": "4c9e3b9d",
   "metadata": {},
   "outputs": [
    {
     "name": "stdout",
     "output_type": "stream",
     "text": [
      "Enter the value of x: 1\n",
      "Enter the value of y: \n"
     ]
    },
    {
     "ename": "ValueError",
     "evalue": "invalid literal for int() with base 10: ''",
     "output_type": "error",
     "traceback": [
      "\u001b[1;31m---------------------------------------------------------------------------\u001b[0m",
      "\u001b[1;31mValueError\u001b[0m                                Traceback (most recent call last)",
      "Cell \u001b[1;32mIn[23], line 6\u001b[0m\n\u001b[0;32m      3\u001b[0m     \u001b[38;5;28mprint\u001b[39m(\u001b[38;5;124m\"\u001b[39m\u001b[38;5;124my: \u001b[39m\u001b[38;5;124m\"\u001b[39m, y)\n\u001b[0;32m      5\u001b[0m x \u001b[38;5;241m=\u001b[39m \u001b[38;5;28mint\u001b[39m(\u001b[38;5;28minput\u001b[39m(\u001b[38;5;124m\"\u001b[39m\u001b[38;5;124mEnter the value of x: \u001b[39m\u001b[38;5;124m\"\u001b[39m))\n\u001b[1;32m----> 6\u001b[0m y \u001b[38;5;241m=\u001b[39m \u001b[38;5;28mint\u001b[39m(\u001b[38;5;28minput\u001b[39m(\u001b[38;5;124m\"\u001b[39m\u001b[38;5;124mEnter the value of y: \u001b[39m\u001b[38;5;124m\"\u001b[39m))\n\u001b[0;32m      7\u001b[0m myFun(x, y)\n",
      "\u001b[1;31mValueError\u001b[0m: invalid literal for int() with base 10: ''"
     ]
    }
   ],
   "source": [
    "def myFun(x, y=50):\n",
    "    print(\"x: \", x)\n",
    "    print(\"y: \", y)\n",
    "\n",
    "x = int(input(\"Enter the value of x: \"))\n",
    "y = int(input(\"Enter the value of y: \"))\n",
    "myFun(x, y)\n"
   ]
  },
  {
   "cell_type": "code",
   "execution_count": 50,
   "id": "691d104e",
   "metadata": {},
   "outputs": [
    {
     "ename": "TypeError",
     "evalue": "'int' object is not iterable",
     "output_type": "error",
     "traceback": [
      "\u001b[1;31m---------------------------------------------------------------------------\u001b[0m",
      "\u001b[1;31mTypeError\u001b[0m                                 Traceback (most recent call last)",
      "Cell \u001b[1;32mIn[50], line 7\u001b[0m\n\u001b[0;32m      3\u001b[0m         \u001b[38;5;28mprint\u001b[39m(\u001b[38;5;124mf\u001b[39m\u001b[38;5;124m'\u001b[39m\u001b[38;5;132;01m{\u001b[39;00mk\u001b[38;5;132;01m}\u001b[39;00m\u001b[38;5;124m:\u001b[39m\u001b[38;5;132;01m{\u001b[39;00mv\u001b[38;5;132;01m}\u001b[39;00m\u001b[38;5;124m'\u001b[39m)\n\u001b[0;32m      5\u001b[0m s \u001b[38;5;241m=\u001b[39m \u001b[38;5;28mlist\u001b[39m(\u001b[38;5;28mmap\u001b[39m(\u001b[38;5;28mstr\u001b[39m, \u001b[38;5;28mrange\u001b[39m(\u001b[38;5;241m1\u001b[39m, \u001b[38;5;241m10\u001b[39m)))\n\u001b[1;32m----> 7\u001b[0m sd \u001b[38;5;241m=\u001b[39m {key:value \u001b[38;5;28;01mfor\u001b[39;00m key, value \u001b[38;5;129;01min\u001b[39;00m \u001b[38;5;28mzip\u001b[39m(s,\u001b[38;5;28mlen\u001b[39m(s))}\n\u001b[0;32m      8\u001b[0m myFun(\u001b[38;5;241m*\u001b[39m\u001b[38;5;241m*\u001b[39msd)\n",
      "\u001b[1;31mTypeError\u001b[0m: 'int' object is not iterable"
     ]
    }
   ],
   "source": [
    "def myFun(**a):\n",
    "    for k, v in a.items():\n",
    "        print(f'{k}:{v}')\n",
    "\n",
    "s = list(map(str, range(1, 10)))\n",
    "\n",
    "sd = {key:value for key, value in zip(s,len(s))}\n",
    "myFun(**sd)  # Pass the dictionary as keyword arguments\n"
   ]
  },
  {
   "cell_type": "code",
   "execution_count": 53,
   "id": "f1459a86",
   "metadata": {},
   "outputs": [
    {
     "name": "stdout",
     "output_type": "stream",
     "text": [
      "1:9\n",
      "2:9\n",
      "3:9\n",
      "4:9\n",
      "5:9\n",
      "6:9\n",
      "7:9\n",
      "8:9\n",
      "9:9\n"
     ]
    }
   ],
   "source": [
    "s = list(map(str, range(1, 10)))\n",
    "\n",
    "# Create a dictionary where keys come from the list 's' and values are the length of 's'\n",
    "sd = {key: len(s) for key in s}\n",
    "myFun(**sd)"
   ]
  },
  {
   "cell_type": "code",
   "execution_count": 62,
   "id": "b4ab925e",
   "metadata": {},
   "outputs": [
    {
     "name": "stdout",
     "output_type": "stream",
     "text": [
      "[20, 30, 40, 10, 11, 12, 13, 14, 15]\n"
     ]
    }
   ],
   "source": [
    "def myFun(*y):\n",
    "    x = [20, 30, 40]\n",
    "    x.extend(y)\n",
    "    return x\n",
    "\n",
    "\n",
    "lst = [10, 11, 12, 13, 14, 15]\n",
    "r = myFun(*lst)\n",
    "print(r)"
   ]
  },
  {
   "cell_type": "code",
   "execution_count": 44,
   "id": "cbabedad",
   "metadata": {},
   "outputs": [],
   "source": [
    "s = list(map(str, range(1, 10)))\n",
    "s = {key:value for key, value in zip(s,range(1,10))}"
   ]
  },
  {
   "cell_type": "code",
   "execution_count": 66,
   "id": "3feddf31",
   "metadata": {},
   "outputs": [
    {
     "ename": "UnboundLocalError",
     "evalue": "cannot access local variable 'temp' where it is not associated with a value",
     "output_type": "error",
     "traceback": [
      "\u001b[1;31m---------------------------------------------------------------------------\u001b[0m",
      "\u001b[1;31mUnboundLocalError\u001b[0m                         Traceback (most recent call last)",
      "Cell \u001b[1;32mIn[66], line 10\u001b[0m\n\u001b[0;32m      8\u001b[0m x \u001b[38;5;241m=\u001b[39m \u001b[38;5;241m23\u001b[39m\n\u001b[0;32m      9\u001b[0m y \u001b[38;5;241m=\u001b[39m \u001b[38;5;241m35\u001b[39m\n\u001b[1;32m---> 10\u001b[0m swap(x, y)\n\u001b[0;32m     11\u001b[0m \u001b[38;5;28mprint\u001b[39m(x)\n\u001b[0;32m     12\u001b[0m \u001b[38;5;28mprint\u001b[39m(y)\n",
      "Cell \u001b[1;32mIn[66], line 2\u001b[0m, in \u001b[0;36mswap\u001b[1;34m(x, y)\u001b[0m\n\u001b[0;32m      1\u001b[0m \u001b[38;5;28;01mdef\u001b[39;00m \u001b[38;5;21mswap\u001b[39m(x, y):\n\u001b[1;32m----> 2\u001b[0m \tx \u001b[38;5;241m=\u001b[39m temp\n\u001b[0;32m      3\u001b[0m \ty \u001b[38;5;241m=\u001b[39m x\n\u001b[0;32m      4\u001b[0m \ttemp \u001b[38;5;241m=\u001b[39m x\n",
      "\u001b[1;31mUnboundLocalError\u001b[0m: cannot access local variable 'temp' where it is not associated with a value"
     ]
    }
   ],
   "source": [
    "def swap(x, y):\n",
    "\tx = temp\n",
    "\ty = x\n",
    "\ttemp = x\n",
    "\n",
    "\n",
    "# Driver code\n",
    "x = 23\n",
    "y = 35\n",
    "swap(x, y)\n",
    "print(x)\n",
    "print(y)"
   ]
  },
  {
   "cell_type": "code",
   "execution_count": 2,
   "id": "df3a0056",
   "metadata": {},
   "outputs": [
    {
     "name": "stdout",
     "output_type": "stream",
     "text": [
      "2\n",
      "4\n",
      "6\n",
      "8\n"
     ]
    }
   ],
   "source": [
    "def even(n):\n",
    "    for num in n:\n",
    "        if num % 2 == 0:\n",
    "            yield num\n",
    "\n",
    "n = list(range(1, 9))\n",
    "for i in even(n):\n",
    "    print(i)\n"
   ]
  }
 ],
 "metadata": {
  "kernelspec": {
   "display_name": "Python 3 (ipykernel)",
   "language": "python",
   "name": "python3"
  },
  "language_info": {
   "codemirror_mode": {
    "name": "ipython",
    "version": 3
   },
   "file_extension": ".py",
   "mimetype": "text/x-python",
   "name": "python",
   "nbconvert_exporter": "python",
   "pygments_lexer": "ipython3",
   "version": "3.11.4"
  }
 },
 "nbformat": 4,
 "nbformat_minor": 5
}
